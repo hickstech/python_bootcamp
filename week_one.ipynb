{
  "nbformat": 4,
  "nbformat_minor": 0,
  "metadata": {
    "colab": {
      "name": "week_one.ipynb",
      "provenance": [],
      "authorship_tag": "ABX9TyP6XjjFrr6Cdh3Qh1DNZ1Oi",
      "include_colab_link": true
    },
    "kernelspec": {
      "name": "python3",
      "display_name": "Python 3"
    }
  },
  "cells": [
    {
      "cell_type": "markdown",
      "metadata": {
        "id": "view-in-github",
        "colab_type": "text"
      },
      "source": [
        "<a href=\"https://colab.research.google.com/github/hickstech/python_bootcamp/blob/main/week_one.ipynb\" target=\"_parent\"><img src=\"https://colab.research.google.com/assets/colab-badge.svg\" alt=\"Open In Colab\"/></a>"
      ]
    },
    {
      "cell_type": "code",
      "metadata": {
        "colab": {
          "base_uri": "https://localhost:8080/"
        },
        "id": "7Zg5NWAV8sw3",
        "outputId": "b7fbc140-d85d-4bf8-85bf-ae075ef8e3f0"
      },
      "source": [
        "import requests\n",
        "\n",
        "response = requests.get('https://uselessfacts.jsph.pl/random.json?language=en')\n",
        "\n",
        "print(response.text)"
      ],
      "execution_count": null,
      "outputs": [
        {
          "output_type": "stream",
          "text": [
            "{\"id\":\"b0b763a6-9ade-4f72-8f79-114e6df14e50\",\"text\":\"All 50 states are listed across the top of the Lincoln Memorial on the back of the $5 bill.\",\"source\":\"djtech.net\",\"source_url\":\"http:\\/\\/www.djtech.net\\/humor\\/useless_facts.htm\",\"language\":\"en\",\"permalink\":\"https:\\/\\/uselessfacts.jsph.pl\\/b0b763a6-9ade-4f72-8f79-114e6df14e50\"}\n"
          ],
          "name": "stdout"
        }
      ]
    },
    {
      "cell_type": "code",
      "metadata": {
        "colab": {
          "base_uri": "https://localhost:8080/"
        },
        "id": "I-nkaLIjE7UT",
        "outputId": "c2f5ea64-3da3-4174-90c8-bbb97cb1f954"
      },
      "source": [
        "import requests\n",
        "\n",
        "query_params={\n",
        "    'language':'en'\n",
        "}\n",
        "\n",
        "response = requests.get('https://uselessfacts.jsph.pl/random.json', params=query_params)\n",
        "\n",
        "print(response.json().get('text'))"
      ],
      "execution_count": null,
      "outputs": [
        {
          "output_type": "stream",
          "text": [
            "Daffy Duck`s middle name is \"Dumas\"\n"
          ],
          "name": "stdout"
        }
      ]
    },
    {
      "cell_type": "markdown",
      "metadata": {
        "id": "Q95H5rW8a0dP"
      },
      "source": [
        "# Data Structures\n",
        "The important ones are lists, dictionaries, and sets."
      ]
    },
    {
      "cell_type": "code",
      "metadata": {
        "colab": {
          "base_uri": "https://localhost:8080/"
        },
        "id": "f4EfXOVLbXmg",
        "outputId": "93931c16-e833-4c7e-eb67-9dace831c197"
      },
      "source": [
        "data = ['Brad', 'You']\n",
        "print(data[0])\n",
        "data.append('Jimmy')\n",
        "\n",
        "data.append(['hello'])\n",
        "data.append(5)\n",
        "\n",
        "print(data)"
      ],
      "execution_count": null,
      "outputs": [
        {
          "output_type": "stream",
          "text": [
            "Brad\n",
            "['Brad', 'You', 'Jimmy', ['hello'], 5]\n"
          ],
          "name": "stdout"
        }
      ]
    },
    {
      "cell_type": "markdown",
      "metadata": {
        "id": "M7qVl8DLc-8g"
      },
      "source": [
        "# List Slicing\n",
        "first number = starting position (inclusive).  \n",
        "second number - stopping position (exclusive).  \n",
        "third number - step.  \n"
      ]
    },
    {
      "cell_type": "code",
      "metadata": {
        "colab": {
          "base_uri": "https://localhost:8080/"
        },
        "id": "6StXMPVacGeV",
        "outputId": "54748c8a-0d49-487b-c10f-db5f5a5993be"
      },
      "source": [
        "data = ['Brad', 'Jimmy', 'Samantha', 'Monica']\n",
        "\n",
        "data[1:4:2]"
      ],
      "execution_count": null,
      "outputs": [
        {
          "output_type": "execute_result",
          "data": {
            "text/plain": [
              "['Jimmy', 'Monica']"
            ]
          },
          "metadata": {
            "tags": []
          },
          "execution_count": 6
        }
      ]
    },
    {
      "cell_type": "markdown",
      "metadata": {
        "id": "oQFEieUVdpbq"
      },
      "source": [
        "#Dictionaries and Sets\n"
      ]
    },
    {
      "cell_type": "code",
      "metadata": {
        "colab": {
          "base_uri": "https://localhost:8080/"
        },
        "id": "wwJ9EO4oduoF",
        "outputId": "247f66da-f7a4-4be8-b8f4-8320ee8d6b8e"
      },
      "source": [
        "data = {'Brad', 'Jimmy', 'Samantha', 'Monica', 'Brad'}\n",
        "\n",
        "print(data)"
      ],
      "execution_count": null,
      "outputs": [
        {
          "output_type": "stream",
          "text": [
            "{'Jimmy', 'Brad', 'Samantha', 'Monica'}\n"
          ],
          "name": "stdout"
        }
      ]
    },
    {
      "cell_type": "markdown",
      "metadata": {
        "id": "ppwGW9aOn2Ls"
      },
      "source": [
        "# Control flow - loops and conditionals\n",
        "\n",
        "Iteration - One time through the loop.  \n"
      ]
    },
    {
      "cell_type": "code",
      "metadata": {
        "colab": {
          "base_uri": "https://localhost:8080/"
        },
        "id": "syDKC7yIoB2t",
        "outputId": "000d9947-08d9-4edd-91c4-7f3c4f76981c"
      },
      "source": [
        "data = ['a', 'b', 'c', 'd', 'e']\n",
        "\n",
        "for i in range(10):\n",
        "  print(i, end=\" \")\n",
        "\n",
        "print(\"\")\n",
        "for letter in data:\n",
        "  print(letter, end=\" \")\n",
        "\n",
        "print(\"\")\n",
        "for i, letter in enumerate(data):\n",
        "  print(i, letter, end=\" \")"
      ],
      "execution_count": null,
      "outputs": [
        {
          "output_type": "stream",
          "text": [
            "0 1 2 3 4 5 6 7 8 9 \n",
            "a b c d e \n",
            "0 a 1 b 2 c 3 d 4 e "
          ],
          "name": "stdout"
        }
      ]
    },
    {
      "cell_type": "code",
      "metadata": {
        "colab": {
          "base_uri": "https://localhost:8080/"
        },
        "id": "BRgqdE8aKxi6",
        "outputId": "72b0a401-2451-4b42-bd7b-404f09b982dc"
      },
      "source": [
        "data = ['a', 'b', 'c', 'd', 'e']\n",
        "\n",
        "i = 0\n",
        "\n",
        "while i < len(data):\n",
        "  print(data[i], end=\" \")\n",
        "  i += 1\n",
        "\n",
        "while True:\n",
        "  x = input()\n",
        "  if x == \"stop\":\n",
        "    break\n",
        "  elif x == \"special\":\n",
        "    continue\n",
        "    \n",
        "  print(\"it wasnt stop or special\")  \n",
        "  print(\"printing data...\")"
      ],
      "execution_count": null,
      "outputs": [
        {
          "output_type": "stream",
          "text": [
            "a b c d e hello\n",
            "it wasnt stop or special\n",
            "printing data...\n",
            "special\n",
            "stop\n"
          ],
          "name": "stdout"
        }
      ]
    },
    {
      "cell_type": "code",
      "metadata": {
        "colab": {
          "base_uri": "https://localhost:8080/"
        },
        "id": "AR-H5ll1MbCP",
        "outputId": "d363a909-72b3-4a96-dd00-0fadf1425898"
      },
      "source": [
        "data_dictionary = {\n",
        "    'Brad': 5,\n",
        "    'Jimmy': 10,\n",
        "    'Samantha': 12,\n",
        "    'Monica': 20, \n",
        "    'Brad': 4\n",
        "}\n",
        "\n",
        "for key, value in data_dictionary.items():\n",
        "  print(key, value)"
      ],
      "execution_count": null,
      "outputs": [
        {
          "output_type": "stream",
          "text": [
            "Brad 4\n",
            "Jimmy 10\n",
            "we found 12\n"
          ],
          "name": "stdout"
        }
      ]
    },
    {
      "cell_type": "markdown",
      "metadata": {
        "id": "EanA8ElshCar"
      },
      "source": [
        "# Guessing game\n",
        "Generate a random number -- random module\n",
        "\n",
        "do while - Python doesn't have this built in.\n",
        "do something once -- possibly repeat it.\n",
        "Ask us for a number. If we get it wrong, ask again.\n",
        "\n",
        "logic for right / wrong: guessed == correct value\n"
      ]
    },
    {
      "cell_type": "code",
      "metadata": {
        "colab": {
          "base_uri": "https://localhost:8080/"
        },
        "id": "Q5DLiYDG_gA9",
        "outputId": "3db0e0b4-cac9-44c7-a00e-96641630fb9e"
      },
      "source": [
        "from random import randint\n",
        "low = 0\n",
        "high = 100\n",
        "correct = randint(low, high)\n",
        "print(f'Guess a number between {low} and {high}.')\n",
        "\n",
        "while True:\n",
        "  # Type cast\n",
        "  guess = int(input())\n",
        "  if guess < correct:\n",
        "    print(\"Guess higher\")\n",
        "  elif guess > correct:\n",
        "    print(\"Guess lower\")\n",
        "  else:\n",
        "    print(\"You win!\")\n",
        "    break"
      ],
      "execution_count": null,
      "outputs": [
        {
          "output_type": "stream",
          "text": [
            "Guess a number between 0 and 100.\n",
            "5\n",
            "Guess higher\n",
            "25\n",
            "Guess higher\n",
            "50\n",
            "Guess higher\n",
            "80\n",
            "Guess higher\n",
            "90\n",
            "Guess lower\n",
            "85\n",
            "Guess lower\n",
            "84\n",
            "You win!\n"
          ],
          "name": "stdout"
        }
      ]
    }
  ]
}